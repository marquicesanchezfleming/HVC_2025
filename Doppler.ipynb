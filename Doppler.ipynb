{
 "cells": [
  {
   "cell_type": "markdown",
   "metadata": {},
   "source": [
    "## Imports"
   ]
  },
  {
   "cell_type": "code",
   "execution_count": 2,
   "metadata": {},
   "outputs": [],
   "source": [
    "import math\n",
    "import numpy as np\n",
    "import matplotlib.pyplot as pyplot"
   ]
  },
  {
   "cell_type": "markdown",
   "metadata": {},
   "source": [
    "## Doppler Effect Calculator"
   ]
  },
  {
   "cell_type": "code",
   "execution_count": 7,
   "metadata": {},
   "outputs": [
    {
     "name": "stdout",
     "output_type": "stream",
     "text": [
      "Observed frequency: 1420.399 MHz\n"
     ]
    }
   ],
   "source": [
    "def doppler_shift(freq_emit_MHz, v, c=3e5):  \n",
    "    if abs(v) >= c:\n",
    "        raise ValueError(\"Velocity must be less than the speed of light.\")\n",
    "    beta = v / c\n",
    "    freq_obs_MHz = freq_emit_MHz * math.sqrt((1 + beta) / (1 - beta))\n",
    "    return freq_obs_MHz\n",
    "\n",
    "v = float(input(\"Velocity in km/s: \"))                                      \n",
    "freq_emit_MHz = 1420.0                                                      \n",
    "freq_obs_MHz = doppler_shift(freq_emit_MHz, v)\n",
    "print(f\"Observed frequency: {freq_obs_MHz:.3f} MHz\")\n",
    "\n",
    "def doppler_velocity(freq_emit_MHz, freq_obs_MHz, c=3e8):\n",
    "    beta = (freq_obs_MHz / freq_emit_MHz) ** 2 - 1\n",
    "    v = beta * c / (1 + beta)\n",
    "    return v"
   ]
  }
 ],
 "metadata": {
  "kernelspec": {
   "display_name": "CS1112",
   "language": "python",
   "name": "python3"
  },
  "language_info": {
   "codemirror_mode": {
    "name": "ipython",
    "version": 3
   },
   "file_extension": ".py",
   "mimetype": "text/x-python",
   "name": "python",
   "nbconvert_exporter": "python",
   "pygments_lexer": "ipython3",
   "version": "3.12.8"
  }
 },
 "nbformat": 4,
 "nbformat_minor": 2
}
